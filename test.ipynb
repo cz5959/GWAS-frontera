{
 "cells": [
  {
   "cell_type": "code",
   "execution_count": 1,
   "metadata": {},
   "outputs": [],
   "source": [
    "import pandas as pd\n",
    "import numpy as np\n",
    "import matplotlib.pyplot as plt\n",
    "import sys\n",
    "import os\n",
    "%matplotlib inline"
   ]
  },
  {
   "cell_type": "code",
   "execution_count": 4,
   "metadata": {},
   "outputs": [
    {
     "name": "stdout",
     "output_type": "stream",
     "text": [
      "C:\\Users\\Carrie Zhu\\Documents\\Research\\GWAS-frontera\n",
      "C:\\Users\\Carrie Zhu\\Documents\\Research\\GWAS-frontera\\GWAS_Results\\height\n"
     ]
    }
   ],
   "source": [
    "print(os.getcwd())\n",
    "os.chdir('C:\\\\Users\\\\Carrie Zhu\\\\Documents\\\\Research\\\\GWAS-frontera\\\\GWAS_Results\\\\height')\n",
    "print(os.getcwd())"
   ]
  },
  {
   "cell_type": "code",
   "execution_count": 8,
   "metadata": {},
   "outputs": [
    {
     "data": {
      "text/html": [
       "<div>\n",
       "<style scoped>\n",
       "    .dataframe tbody tr th:only-of-type {\n",
       "        vertical-align: middle;\n",
       "    }\n",
       "\n",
       "    .dataframe tbody tr th {\n",
       "        vertical-align: top;\n",
       "    }\n",
       "\n",
       "    .dataframe thead th {\n",
       "        text-align: right;\n",
       "    }\n",
       "</style>\n",
       "<table border=\"1\" class=\"dataframe\">\n",
       "  <thead>\n",
       "    <tr style=\"text-align: right;\">\n",
       "      <th></th>\n",
       "      <th>F_LFSR</th>\n",
       "      <th>M_LFSR</th>\n",
       "      <th>F_PM</th>\n",
       "      <th>M_PM</th>\n",
       "      <th>F_PSD</th>\n",
       "      <th>M_PSD</th>\n",
       "    </tr>\n",
       "  </thead>\n",
       "  <tbody>\n",
       "    <tr>\n",
       "      <th>10:rs56142017:G:C</th>\n",
       "      <td>4.904342e-09</td>\n",
       "      <td>4.448989e-09</td>\n",
       "      <td>-0.217203</td>\n",
       "      <td>-0.233583</td>\n",
       "      <td>0.034700</td>\n",
       "      <td>0.038071</td>\n",
       "    </tr>\n",
       "    <tr>\n",
       "      <th>10:rs66923674:G:T</th>\n",
       "      <td>2.220446e-16</td>\n",
       "      <td>0.000000e+00</td>\n",
       "      <td>-0.211381</td>\n",
       "      <td>-0.236634</td>\n",
       "      <td>0.022514</td>\n",
       "      <td>0.025465</td>\n",
       "    </tr>\n",
       "    <tr>\n",
       "      <th>10:rs11594322:A:C</th>\n",
       "      <td>0.000000e+00</td>\n",
       "      <td>0.000000e+00</td>\n",
       "      <td>-0.211269</td>\n",
       "      <td>-0.236182</td>\n",
       "      <td>0.022494</td>\n",
       "      <td>0.025418</td>\n",
       "    </tr>\n",
       "    <tr>\n",
       "      <th>10:rs35688079:T:A</th>\n",
       "      <td>1.110223e-16</td>\n",
       "      <td>0.000000e+00</td>\n",
       "      <td>-0.212203</td>\n",
       "      <td>-0.236696</td>\n",
       "      <td>0.022478</td>\n",
       "      <td>0.025385</td>\n",
       "    </tr>\n",
       "    <tr>\n",
       "      <th>10:rs55810378:C:T</th>\n",
       "      <td>5.551115e-15</td>\n",
       "      <td>4.329870e-15</td>\n",
       "      <td>-0.177679</td>\n",
       "      <td>-0.192773</td>\n",
       "      <td>0.021421</td>\n",
       "      <td>0.023831</td>\n",
       "    </tr>\n",
       "  </tbody>\n",
       "</table>\n",
       "</div>"
      ],
      "text/plain": [
       "                         F_LFSR        M_LFSR      F_PM      M_PM     F_PSD  \\\n",
       "10:rs56142017:G:C  4.904342e-09  4.448989e-09 -0.217203 -0.233583  0.034700   \n",
       "10:rs66923674:G:T  2.220446e-16  0.000000e+00 -0.211381 -0.236634  0.022514   \n",
       "10:rs11594322:A:C  0.000000e+00  0.000000e+00 -0.211269 -0.236182  0.022494   \n",
       "10:rs35688079:T:A  1.110223e-16  0.000000e+00 -0.212203 -0.236696  0.022478   \n",
       "10:rs55810378:C:T  5.551115e-15  4.329870e-15 -0.177679 -0.192773  0.021421   \n",
       "\n",
       "                      M_PSD  \n",
       "10:rs56142017:G:C  0.038071  \n",
       "10:rs66923674:G:T  0.025465  \n",
       "10:rs11594322:A:C  0.025418  \n",
       "10:rs35688079:T:A  0.025385  \n",
       "10:rs55810378:C:T  0.023831  "
      ]
     },
     "execution_count": 8,
     "metadata": {},
     "output_type": "execute_result"
    }
   ],
   "source": [
    "df = pd.read_csv(\"height_posteriors.txt\",sep=\"\\t\")\n",
    "df.head()"
   ]
  },
  {
   "cell_type": "code",
   "execution_count": null,
   "metadata": {},
   "outputs": [],
   "source": []
  }
 ],
 "metadata": {
  "kernelspec": {
   "display_name": "Python 3",
   "language": "python",
   "name": "python3"
  },
  "language_info": {
   "codemirror_mode": {
    "name": "ipython",
    "version": 3
   },
   "file_extension": ".py",
   "mimetype": "text/x-python",
   "name": "python",
   "nbconvert_exporter": "python",
   "pygments_lexer": "ipython3",
   "version": "3.8.5"
  }
 },
 "nbformat": 4,
 "nbformat_minor": 4
}
