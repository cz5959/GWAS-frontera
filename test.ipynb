{
 "cells": [
  {
   "cell_type": "code",
   "execution_count": 2,
   "metadata": {},
   "outputs": [],
   "source": [
    "import pandas as pd\n",
    "import numpy as np\n",
    "import matplotlib.pyplot as plt\n",
    "import sys\n",
    "import os\n",
    "%matplotlib inline"
   ]
  },
  {
   "cell_type": "code",
   "execution_count": null,
   "metadata": {},
   "outputs": [],
   "source": [
    "print(os.getcwd())\n",
    "os.chdir('C:\\\\Users\\\\Carrie Zhu\\\\Documents\\\\Research\\\\GWAS-frontera\\\\LDSC')\n",
    "print(os.getcwd())"
   ]
  },
  {
   "cell_type": "code",
   "execution_count": null,
   "metadata": {},
   "outputs": [],
   "source": [
    "df = pd.read_csv(\"height_posteriors.txt\",sep=\"\\t\")"
   ]
  },
  {
   "cell_type": "markdown",
   "metadata": {},
   "source": [
    "## Heritability Plot"
   ]
  },
  {
   "cell_type": "markdown",
   "metadata": {},
   "source": [
    "#### Heritability by Sex"
   ]
  },
  {
   "cell_type": "code",
   "execution_count": null,
   "metadata": {},
   "outputs": [],
   "source": [
    "os.chdir('C:\\\\Users\\\\Carrie Zhu\\\\Documents\\\\Research\\\\GWAS-frontera\\\\LDSC')"
   ]
  },
  {
   "cell_type": "code",
   "execution_count": null,
   "metadata": {},
   "outputs": [],
   "source": [
    "df = pd.read_csv(\"h2_plots.txt\", sep=\"\\t\")\n",
    "#df = df[df.Phenotype != 'Total Bilirubin']"
   ]
  },
  {
   "cell_type": "code",
   "execution_count": null,
   "metadata": {},
   "outputs": [],
   "source": [
    "x = np.arange(0,len(df.Phenotype.unique()))\n",
    "df['H2 SE'] = pd.to_numeric(df['H2 SE'])\n",
    "df.Heritability = pd.to_numeric(df.Heritability)\n",
    "y1 = df.Heritability.where(df.Sex == 'Both').dropna()\n",
    "y2 = df.Heritability.where(df.Sex == 'Female').dropna()\n",
    "y3 = df.Heritability.where(df.Sex == 'Male').dropna()\n",
    "e1 = df['H2 SE'].where(df.Sex == 'Both').dropna()\n",
    "e2 = df['H2 SE'].where(df.Sex == 'Female').dropna()\n",
    "e3 = df['H2 SE'].where(df.Sex == 'Male').dropna()"
   ]
  },
  {
   "cell_type": "code",
   "execution_count": null,
   "metadata": {},
   "outputs": [],
   "source": [
    "fig = plt.figure(figsize=(20,8))\n",
    "plt.scatter(x-0.15,y1, label=\"Both\")\n",
    "plt.scatter(x,y2, label=\"Female\")\n",
    "plt.scatter(x+0.15,y3, label=\"Male\")\n",
    "plt.errorbar(x-0.15,y1,yerr=2*e1,linestyle=\"none\",label=\"2SE\")\n",
    "plt.errorbar(x,y2,yerr=2*e2,linestyle=\"none\")\n",
    "plt.errorbar(x+0.15,y3,yerr=2*e3,linestyle=\"none\")\n",
    "plt.xticks(x,df.Phenotype.unique(), rotation = 'vertical', fontsize='x-large')\n",
    "plt.yticks(fontsize='x-large')\n",
    "plt.xlabel(\"Phenotype\", fontsize='x-large')\n",
    "plt.ylabel(\"Heritability\", fontsize='x-large')\n",
    "plt.legend(fontsize='large')\n",
    "plt.title(\"Heritability by Sex\", fontsize = 'xx-large')\n",
    "\n",
    "#plt.tight_layout()\n",
    "#plt.savefig(\"h2_plot.png\")"
   ]
  },
  {
   "cell_type": "markdown",
   "metadata": {},
   "source": [
    "#### My and Neale Lab Heritability Comparision"
   ]
  },
  {
   "cell_type": "code",
   "execution_count": null,
   "metadata": {},
   "outputs": [],
   "source": [
    "df_n = pd.read_csv(\"h2_neale.txt\", sep=\"\\t\")\n",
    "df_n.head()\n",
    "df_n.Neale_h2 = pd.to_numeric(df_n.Neale_h2)\n",
    "df_n.Neale_SE = pd.to_numeric(df_n.Neale_SE)\n",
    "y_n = df_n.Neale_h2\n",
    "e_n = df_n.Neale_SE"
   ]
  },
  {
   "cell_type": "code",
   "execution_count": null,
   "metadata": {},
   "outputs": [],
   "source": [
    "fig = plt.figure(figsize=(20,16))\n",
    "plt.scatter(x-0.15,y1, label=\"My LDSC\")\n",
    "plt.scatter(x[0:14],y_n,label=\"Neale Lab\")\n",
    "plt.xticks(x,df.Phenotype.unique(), rotation = 'vertical', fontsize='x-large')\n",
    "plt.errorbar(x-0.15,y1,yerr=2*e1,linestyle=\"none\",label=\"2SE\")\n",
    "plt.errorbar(x[0:14],y_n,yerr=2*e_n,linestyle=\"none\")\n",
    "plt.yticks(fontsize='x-large')\n",
    "plt.xlabel(\"Phenotype\", fontsize='x-large')\n",
    "plt.ylabel(\"Heritability\", fontsize='x-large')\n",
    "plt.legend(fontsize='large')\n",
    "plt.title(\"Neale Lab and My LDSC Heritability Comparision\", fontsize = 'xx-large')\n",
    "\n",
    "#plt.tight_layout()\n",
    "#plt.savefig(\"h2_neale.png\")"
   ]
  },
  {
   "cell_type": "markdown",
   "metadata": {},
   "source": [
    "#### Relative Heritability Ordered by Genetic Correlation"
   ]
  },
  {
   "cell_type": "code",
   "execution_count": null,
   "metadata": {},
   "outputs": [],
   "source": [
    "df_corr = df.sort_values('Correlation', ascending=False).reset_index(drop=True)\n",
    "df_corr.head()\n",
    "relative = []\n",
    "relative_se = []\n",
    "for i, row in df_corr.iterrows():\n",
    "    pheno = row.Phenotype\n",
    "    both_h2 = df_corr.loc[(df_corr.Phenotype == pheno) & (df_corr.Sex == 'Both'), ['Heritability']].squeeze()\n",
    "    h2 = row.Heritability / both_h2\n",
    "    se = ((row.Heritability + row['H2 SE']) / both_h2) - h2\n",
    "    relative.append(h2)\n",
    "    relative_se.append(se)\n",
    "df_corr['Relative'] = relative\n",
    "df_corr['Relative_SE'] = relative_se\n",
    "\n",
    "y4 = df_corr.Relative.where(df_corr.Sex == 'Both').dropna()\n",
    "y5 = df_corr.Relative.where(df_corr.Sex == 'Female').dropna()\n",
    "y6 = df_corr.Relative.where(df_corr.Sex == 'Male').dropna()\n",
    "e4 = df_corr['Relative_SE'].where(df_corr.Sex == 'Both').dropna()\n",
    "e5 = df_corr['Relative_SE'].where(df_corr.Sex == 'Female').dropna()\n",
    "e6 = df_corr['Relative_SE'].where(df_corr.Sex == 'Male').dropna()\n",
    "\n",
    "print(df_corr[df_corr.Phenotype == 'Calcium'])\n",
    "df[df.Phenotype == 'Calcium']"
   ]
  },
  {
   "cell_type": "code",
   "execution_count": null,
   "metadata": {},
   "outputs": [],
   "source": [
    "fig = plt.figure(figsize=(20,12))\n",
    "plt.scatter(x-0.15,y4, label=\"Both\")\n",
    "plt.scatter(x,y5, label=\"Female\")\n",
    "plt.scatter(x+0.15,y6, label=\"Male\")\n",
    "plt.errorbar(x-0.15,y4,yerr=2*e4,linestyle=\"none\",label=\"2SE\")\n",
    "plt.errorbar(x,y5,yerr=2*e5,linestyle=\"none\")\n",
    "plt.errorbar(x+0.15,y6,yerr=2*e6,linestyle=\"none\")\n",
    "plt.xticks(x,df_corr.Phenotype.unique(), rotation = 'vertical', fontsize='x-large')\n",
    "plt.yticks(fontsize='x-large')\n",
    "plt.xlabel(\"Phenotype\", fontsize='x-large')\n",
    "plt.ylabel(\"Relative Heritability\", fontsize='x-large')\n",
    "plt.axhline(y=1,linestyle='dashed',alpha=0.3)\n",
    "plt.legend(fontsize='large', loc=(0.85,0.85))\n",
    "plt.title(\"Relative Heritability Ordered by Genetic Correlation (Descending)\", fontsize = 'xx-large')\n",
    "\n",
    "#plt.tight_layout()\n",
    "#plt.savefig(\"relative_h2.png\")"
   ]
  },
  {
   "cell_type": "markdown",
   "metadata": {},
   "source": [
    "## Mixture Proportion Plot"
   ]
  },
  {
   "cell_type": "code",
   "execution_count": 53,
   "metadata": {},
   "outputs": [],
   "source": [
    "os.chdir('C:\\\\Users\\\\Carrie Zhu\\\\Documents\\\\Research\\\\GWAS-frontera\\\\GWAS_Results\\\\creatinine')"
   ]
  },
  {
   "cell_type": "code",
   "execution_count": 54,
   "metadata": {},
   "outputs": [
    {
     "data": {
      "text/html": [
       "<div>\n",
       "<style scoped>\n",
       "    .dataframe tbody tr th:only-of-type {\n",
       "        vertical-align: middle;\n",
       "    }\n",
       "\n",
       "    .dataframe tbody tr th {\n",
       "        vertical-align: top;\n",
       "    }\n",
       "\n",
       "    .dataframe thead th {\n",
       "        text-align: right;\n",
       "    }\n",
       "</style>\n",
       "<table border=\"1\" class=\"dataframe\">\n",
       "  <thead>\n",
       "    <tr style=\"text-align: right;\">\n",
       "      <th></th>\n",
       "      <th>x</th>\n",
       "      <th>x_label</th>\n",
       "    </tr>\n",
       "  </thead>\n",
       "  <tbody>\n",
       "    <tr>\n",
       "      <th>NaN</th>\n",
       "      <td>0.171561</td>\n",
       "      <td>nan</td>\n",
       "    </tr>\n",
       "    <tr>\n",
       "      <th>ED_PCA_1</th>\n",
       "      <td>0.000000</td>\n",
       "      <td>ED_PCA_1</td>\n",
       "    </tr>\n",
       "    <tr>\n",
       "      <th>ED_PCA_2</th>\n",
       "      <td>0.000000</td>\n",
       "      <td>ED_PCA_2</td>\n",
       "    </tr>\n",
       "    <tr>\n",
       "      <th>ED_tPCA</th>\n",
       "      <td>0.000000</td>\n",
       "      <td>ED_tPCA</td>\n",
       "    </tr>\n",
       "    <tr>\n",
       "      <th>identity</th>\n",
       "      <td>0.000000</td>\n",
       "      <td>identity</td>\n",
       "    </tr>\n",
       "  </tbody>\n",
       "</table>\n",
       "</div>"
      ],
      "text/plain": [
       "                 x   x_label\n",
       "NaN       0.171561       nan\n",
       "ED_PCA_1  0.000000  ED_PCA_1\n",
       "ED_PCA_2  0.000000  ED_PCA_2\n",
       "ED_tPCA   0.000000   ED_tPCA\n",
       "identity  0.000000  identity"
      ]
     },
     "execution_count": 54,
     "metadata": {},
     "output_type": "execute_result"
    }
   ],
   "source": [
    "df = pd.read_csv(\"creatininemixprop.txt\",sep=\"\\t\")\n",
    "df['x_label'] = df.index.astype(str)\n",
    "df.head()"
   ]
  },
  {
   "cell_type": "code",
   "execution_count": 55,
   "metadata": {},
   "outputs": [
    {
     "data": {
      "image/png": "[encoded data removed]",
      "text/plain": [
       "<Figure size 1296x576 with 1 Axes>"
      ]
     },
     "metadata": {
      "needs_background": "light"
     },
     "output_type": "display_data"
    }
   ],
   "source": [
    "fig = plt.figure(figsize=(18,8))\n",
    "plt.bar(df.x_label,pd.to_numeric(df.x))\n",
    "plt.xticks(rotation = 'vertical', fontsize='large')\n",
    "plt.yticks(fontsize='large')\n",
    "plt.xlabel('Variance-Covariance Matrice', fontsize='x-large')\n",
    "plt.ylabel('Proportion', fontsize='x-large')\n",
    "plt.title('Mixture Proportions for Different Covariance Matrices - Creatinine')\n",
    "\n",
    "plt.tight_layout()\n",
    "plt.savefig(\"creatininemixpropbar.png\")"
   ]
  }
 ],
 "metadata": {
  "kernelspec": {
   "display_name": "Python 3",
   "language": "python",
   "name": "python3"
  },
  "language_info": {
   "codemirror_mode": {
    "name": "ipython",
    "version": 3
   },
   "file_extension": ".py",
   "mimetype": "text/x-python",
   "name": "python",
   "nbconvert_exporter": "python",
   "pygments_lexer": "ipython3",
   "version": "3.8.5"
  }
 },
 "nbformat": 4,
 "nbformat_minor": 4
}
